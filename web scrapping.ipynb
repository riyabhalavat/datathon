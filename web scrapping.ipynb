{
 "cells": [
  {
   "cell_type": "code",
   "execution_count": 5,
   "id": "6ec1aa4b-a4ba-4a3b-aef2-d2f271ef7689",
   "metadata": {},
   "outputs": [
    {
     "name": "stdout",
     "output_type": "stream",
     "text": [
      "Requirement already satisfied: selenium in c:\\users\\sanya jain\\anaconda3\\lib\\site-packages (4.28.1)\n",
      "Requirement already satisfied: urllib3<3,>=1.26 in c:\\users\\sanya jain\\anaconda3\\lib\\site-packages (from urllib3[socks]<3,>=1.26->selenium) (2.2.2)\n",
      "Requirement already satisfied: trio~=0.17 in c:\\users\\sanya jain\\anaconda3\\lib\\site-packages (from selenium) (0.28.0)\n",
      "Requirement already satisfied: trio-websocket~=0.9 in c:\\users\\sanya jain\\anaconda3\\lib\\site-packages (from selenium) (0.11.1)\n",
      "Requirement already satisfied: certifi>=2021.10.8 in c:\\users\\sanya jain\\anaconda3\\lib\\site-packages (from selenium) (2024.8.30)\n",
      "Requirement already satisfied: typing_extensions~=4.9 in c:\\users\\sanya jain\\anaconda3\\lib\\site-packages (from selenium) (4.11.0)\n",
      "Requirement already satisfied: websocket-client~=1.8 in c:\\users\\sanya jain\\anaconda3\\lib\\site-packages (from selenium) (1.8.0)\n",
      "Requirement already satisfied: attrs>=23.2.0 in c:\\users\\sanya jain\\anaconda3\\lib\\site-packages (from trio~=0.17->selenium) (25.1.0)\n",
      "Requirement already satisfied: sortedcontainers in c:\\users\\sanya jain\\anaconda3\\lib\\site-packages (from trio~=0.17->selenium) (2.4.0)\n",
      "Requirement already satisfied: idna in c:\\users\\sanya jain\\anaconda3\\lib\\site-packages (from trio~=0.17->selenium) (3.7)\n",
      "Requirement already satisfied: outcome in c:\\users\\sanya jain\\anaconda3\\lib\\site-packages (from trio~=0.17->selenium) (1.3.0.post0)\n",
      "Requirement already satisfied: sniffio>=1.3.0 in c:\\users\\sanya jain\\anaconda3\\lib\\site-packages (from trio~=0.17->selenium) (1.3.0)\n",
      "Requirement already satisfied: cffi>=1.14 in c:\\users\\sanya jain\\anaconda3\\lib\\site-packages (from trio~=0.17->selenium) (1.16.0)\n",
      "Requirement already satisfied: wsproto>=0.14 in c:\\users\\sanya jain\\anaconda3\\lib\\site-packages (from trio-websocket~=0.9->selenium) (1.2.0)\n",
      "Requirement already satisfied: pysocks!=1.5.7,<2.0,>=1.5.6 in c:\\users\\sanya jain\\anaconda3\\lib\\site-packages (from urllib3[socks]<3,>=1.26->selenium) (1.7.1)\n",
      "Requirement already satisfied: pycparser in c:\\users\\sanya jain\\anaconda3\\lib\\site-packages (from cffi>=1.14->trio~=0.17->selenium) (2.21)\n",
      "Requirement already satisfied: h11<1,>=0.9.0 in c:\\users\\sanya jain\\anaconda3\\lib\\site-packages (from wsproto>=0.14->trio-websocket~=0.9->selenium) (0.14.0)\n",
      "Collecting webdriver_manager\n",
      "  Downloading webdriver_manager-4.0.2-py2.py3-none-any.whl.metadata (12 kB)\n",
      "Requirement already satisfied: requests in c:\\users\\sanya jain\\anaconda3\\lib\\site-packages (from webdriver_manager) (2.32.2)\n",
      "Requirement already satisfied: python-dotenv in c:\\users\\sanya jain\\anaconda3\\lib\\site-packages (from webdriver_manager) (0.21.0)\n",
      "Requirement already satisfied: packaging in c:\\users\\sanya jain\\anaconda3\\lib\\site-packages (from webdriver_manager) (23.2)\n",
      "Requirement already satisfied: charset-normalizer<4,>=2 in c:\\users\\sanya jain\\anaconda3\\lib\\site-packages (from requests->webdriver_manager) (2.0.4)\n",
      "Requirement already satisfied: idna<4,>=2.5 in c:\\users\\sanya jain\\anaconda3\\lib\\site-packages (from requests->webdriver_manager) (3.7)\n",
      "Requirement already satisfied: urllib3<3,>=1.21.1 in c:\\users\\sanya jain\\anaconda3\\lib\\site-packages (from requests->webdriver_manager) (2.2.2)\n",
      "Requirement already satisfied: certifi>=2017.4.17 in c:\\users\\sanya jain\\anaconda3\\lib\\site-packages (from requests->webdriver_manager) (2024.8.30)\n",
      "Downloading webdriver_manager-4.0.2-py2.py3-none-any.whl (27 kB)\n",
      "Installing collected packages: webdriver_manager\n",
      "Successfully installed webdriver_manager-4.0.2\n"
     ]
    }
   ],
   "source": [
    "!pip install selenium\n",
    "!pip install webdriver_manager\n",
    "from selenium import webdriver\n",
    "from selenium.webdriver.chrome.service import Service\n",
    "from webdriver_manager.chrome import ChromeDriverManager\n",
    "from selenium.webdriver.common.by import By\n",
    "import pandas as pd\n",
    "\n",
    "# Setup ChromeDriver\n",
    "driver = webdriver.Chrome(service=Service(ChromeDriverManager().install()))\n",
    "\n",
    "# Open the website\n",
    "driver.get(\"https://startuptalky.com/indian-startups-funding-investors-data-2025/\")\n",
    "\n"
   ]
  },
  {
   "cell_type": "code",
   "execution_count": 9,
   "id": "2ea57936-3bf3-4cca-b962-cd858ba37ec5",
   "metadata": {},
   "outputs": [
    {
     "name": "stdout",
     "output_type": "stream",
     "text": [
      "COMPANY SECTOR HEADQUARTERS AMOUNT FUNDING ROUND TYPE LEAD INVESTORS\n",
      "Infra.Market Construction Materials Mumbai $121 million Funding Round Tiger Global\n",
      "Nazara Technologies Gaming & Media Mumbai Rs 495 crore ($60 million) Funding Round Axana Estates LLP, Arpit Khandelwal, Mithun Sacheti\n",
      "Ati Motors Industrial Robotics Bengaluru $20 million Series B Walden Catalyst Ventures, NGP Capital, True Ventures, Exfinity Venture Partners, Athera Venture Partners, Blume Ventures\n",
      "Aris Infra Solutions Tech-enabled Procurement Mumbai Rs 80 crore Pre-IPO Round Mukul Agrawal (Param Capital)\n",
      "Deconstruct D2C Skincare Bengaluru Rs 65 crore ($7.7 million) Funding Round BOLD (L’Oréal’s VC Fund), V3 Ventures, DSG Consumer Partners, Kalaari Capital, Beenext\n",
      "VuNet Systems Business Observability Bengaluru Rs 60 crore ($6.94 million) Series B Pravega Ventures, Kotak Securities, Mela Ventures, Athera Venture Partners, Dallas Venture Capital, TVS Capital Funds\n",
      "Medusa Beverages Beer Manufacturing Delhi Rs 56 crore Series A Amal N Parikh, Ashwin Kedia, Ramesh Damani, Nikhil Garg, Crest Opportunities, HNIs (Singapore, UK, UAE)\n",
      "Snabbit Quick Service App Bengaluru $5.5 million Series A Elevation Capital, Nexus Venture Partners, Vidit Aatrey, Sanjeev Barnwal, Gaurav Munjal, Niraj Singh\n",
      "Landeed Property Title Search Engine Hyderabad $5 million Series X 10x Founders Fund, Oliver Jung, Paradigm Shift, Pioneer Fund, others\n",
      "KisanKonnect D2C Food Brand Mumbai $4.5 million Series A Mistry Ventures, Brand Capital, Shilpa Shetty, VC-Grid, Vishwang Desai\n",
      "BPR Hub Compliance for Manufacturers California $2.6 million Seed Round Accel, Kae Capital\n",
      "Pipeshift AI Infrastructure San Francisco $2.5 million Seed Round Y Combinator, SenseAI Ventures, Arka Venture Labs, Good News Ventures, others\n",
      "Zeelab Pharmacy Healthcare Delhi $2.4 million Maiden Funding Round OTP Ventures\n",
      "ProcureYard B2B Raw Materials Haryana $1.72 million Seed Round Powerhouse Ventures, Java Capital, 2am VC, angels including Abhishek Goyal and Rajesh Sawhney\n",
      "Workie Office Space Management Indore Rs 13 crore Equity Round Sunil Singhania Family Office, NAV Capital, Raman Roy, others\n",
      "Cancrie Nanocarbon Materials Jaipur $1.2 million Seed Round Roots Ventures, IIMA Ventures\n",
      "Raaz App Healthcare Bengaluru $1 million Funding Round Fireside Ventures, Campus Fund, Better Capital\n",
      "Postudio Post-Production SaaS Mumbai $1 million Pre-Seed Round Audacity Venture Capital\n",
      "Chelvies Coffee Coffee & Dining Brand Noida $1 million Pre-Series A Endurance Capital\n",
      "Krvvy D2C Lingerie & Shapewear Noida Rs 6.1 crore ($705K) Pre-Seed Round Titan Capital, All In Capital, angels such as Nikita Gupta, Emmanuel Suraj, and others\n",
      "Prantae Solutions Deep Tech Bhubaneswar Rs 5 crore Seed Round IAN Group, IAN Alpha Fund, Samir Kalia, Deepank Kumar, Nitin Zamre\n",
      "Exsure Biotech Bhubaneswar Rs 3 crore Seed Round Unicorn India Ventures\n",
      "Dream Aerospace Aerospace & Defense Chennai Rs 3 crore Pre-Seed Round Inflection Point Ventures\n",
      "SVASTEK Medtech New Delhi Rs 2 crore Seed Round IAN Angel Fund\n",
      "JoySpoon Mouth Freshener Ahmedabad Rs 56 lakh Seed Round Dishit Nathwani, Prateek Toshniwal, others\n"
     ]
    }
   ],
   "source": [
    "#scrapping the table\n",
    "elem= driver.find_element(By.CLASS_NAME, \"gh-table\")\n",
    "print(elem.text)"
   ]
  },
  {
   "cell_type": "code",
   "execution_count": 21,
   "id": "f33932ac-32d8-4349-b7da-88e4fc9a1163",
   "metadata": {},
   "outputs": [],
   "source": [
    "import pandas as pd\n",
    "\n",
    "#  Excel file\n",
    "df = pd.read_excel(r\"C:\\Users\\Sanya Jain\\Downloads\\startup.xlsx\")\n",
    "\n",
    "# Check if the data is valid\n",
    "if isinstance(df, pd.DataFrame):\n",
    "    # Save the DataFrame to Excel\n",
    "    df.to_excel(\"output.xlsx\", index=False)\n"
   ]
  },
  {
   "cell_type": "code",
   "execution_count": null,
   "id": "e7864f13-6b2b-49fe-af3d-119393e74455",
   "metadata": {},
   "outputs": [],
   "source": []
  }
 ],
 "metadata": {
  "kernelspec": {
   "display_name": "Python 3 (ipykernel)",
   "language": "python",
   "name": "python3"
  },
  "language_info": {
   "codemirror_mode": {
    "name": "ipython",
    "version": 3
   },
   "file_extension": ".py",
   "mimetype": "text/x-python",
   "name": "python",
   "nbconvert_exporter": "python",
   "pygments_lexer": "ipython3",
   "version": "3.12.4"
  }
 },
 "nbformat": 4,
 "nbformat_minor": 5
}
